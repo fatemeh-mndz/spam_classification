{
 "cells": [
  {
   "cell_type": "code",
   "execution_count": 2,
   "metadata": {},
   "outputs": [],
   "source": [
    "import pandas as pd\n",
    "import matplotlib.pyplot as plt\n",
    "import seaborn as sns"
   ]
  },
  {
   "cell_type": "code",
   "execution_count": 3,
   "metadata": {},
   "outputs": [],
   "source": [
    "df=pd.read_csv(\"spam_text_message.csv\")"
   ]
  },
  {
   "cell_type": "code",
   "execution_count": 4,
   "metadata": {},
   "outputs": [
    {
     "data": {
      "text/html": [
       "<div>\n",
       "<style scoped>\n",
       "    .dataframe tbody tr th:only-of-type {\n",
       "        vertical-align: middle;\n",
       "    }\n",
       "\n",
       "    .dataframe tbody tr th {\n",
       "        vertical-align: top;\n",
       "    }\n",
       "\n",
       "    .dataframe thead th {\n",
       "        text-align: right;\n",
       "    }\n",
       "</style>\n",
       "<table border=\"1\" class=\"dataframe\">\n",
       "  <thead>\n",
       "    <tr style=\"text-align: right;\">\n",
       "      <th></th>\n",
       "      <th>Category</th>\n",
       "      <th>Message</th>\n",
       "    </tr>\n",
       "  </thead>\n",
       "  <tbody>\n",
       "    <tr>\n",
       "      <th>0</th>\n",
       "      <td>ham</td>\n",
       "      <td>Go until jurong point, crazy.. Available only ...</td>\n",
       "    </tr>\n",
       "    <tr>\n",
       "      <th>1</th>\n",
       "      <td>ham</td>\n",
       "      <td>Ok lar... Joking wif u oni...</td>\n",
       "    </tr>\n",
       "    <tr>\n",
       "      <th>2</th>\n",
       "      <td>spam</td>\n",
       "      <td>Free entry in 2 a wkly comp to win FA Cup fina...</td>\n",
       "    </tr>\n",
       "    <tr>\n",
       "      <th>3</th>\n",
       "      <td>ham</td>\n",
       "      <td>U dun say so early hor... U c already then say...</td>\n",
       "    </tr>\n",
       "    <tr>\n",
       "      <th>4</th>\n",
       "      <td>ham</td>\n",
       "      <td>Nah I don't think he goes to usf, he lives aro...</td>\n",
       "    </tr>\n",
       "  </tbody>\n",
       "</table>\n",
       "</div>"
      ],
      "text/plain": [
       "  Category                                            Message\n",
       "0      ham  Go until jurong point, crazy.. Available only ...\n",
       "1      ham                      Ok lar... Joking wif u oni...\n",
       "2     spam  Free entry in 2 a wkly comp to win FA Cup fina...\n",
       "3      ham  U dun say so early hor... U c already then say...\n",
       "4      ham  Nah I don't think he goes to usf, he lives aro..."
      ]
     },
     "execution_count": 4,
     "metadata": {},
     "output_type": "execute_result"
    }
   ],
   "source": [
    "df.head()"
   ]
  },
  {
   "cell_type": "code",
   "execution_count": 5,
   "metadata": {},
   "outputs": [
    {
     "data": {
      "image/png": "[encoded data removed]",
      "text/plain": [
       "<Figure size 640x480 with 1 Axes>"
      ]
     },
     "metadata": {},
     "output_type": "display_data"
    }
   ],
   "source": [
    "sns.countplot(x=df[\"Category\"])\n",
    "plt.show()"
   ]
  },
  {
   "cell_type": "code",
   "execution_count": 6,
   "metadata": {},
   "outputs": [],
   "source": [
    "X=df[\"Message\"]\n",
    "Y=df[\"Category\"]"
   ]
  },
  {
   "cell_type": "code",
   "execution_count": 7,
   "metadata": {},
   "outputs": [
    {
     "name": "stdout",
     "output_type": "stream",
     "text": [
      "[0 0 1 ... 0 0 0]\n"
     ]
    }
   ],
   "source": [
    "from sklearn.preprocessing import LabelEncoder\n",
    "le=LabelEncoder()\n",
    "Y=le.fit_transform(Y)\n",
    "print(Y)"
   ]
  },
  {
   "cell_type": "code",
   "execution_count": 8,
   "metadata": {},
   "outputs": [
    {
     "data": {
      "text/plain": [
       "(5572,)"
      ]
     },
     "execution_count": 8,
     "metadata": {},
     "output_type": "execute_result"
    }
   ],
   "source": [
    "\n",
    "X.shape"
   ]
  },
  {
   "cell_type": "code",
   "execution_count": 9,
   "metadata": {},
   "outputs": [],
   "source": [
    "from sklearn.model_selection import train_test_split\n",
    "X_train,X_test,Y_train,Y_test=train_test_split(X,Y,test_size=.2)"
   ]
  },
  {
   "cell_type": "code",
   "execution_count": 10,
   "metadata": {},
   "outputs": [],
   "source": [
    "from tensorflow.keras.preprocessing.text import Tokenizer\n",
    "max_words=500\n",
    "tkn=Tokenizer(num_words=max_words)\n",
    "tkn.fit_on_texts(X_train)\n",
    "seq=tkn.texts_to_sequences(X_train)\n",
    "# print(seq)"
   ]
  },
  {
   "cell_type": "code",
   "execution_count": 11,
   "metadata": {},
   "outputs": [
    {
     "name": "stdout",
     "output_type": "stream",
     "text": [
      "[[  0   0   0 ...   5 333   9]\n",
      " [  0   0   0 ...  31 483   2]\n",
      " [  0   0   0 ...  41  72  59]\n",
      " ...\n",
      " [  0   0   0 ... 183  67   9]\n",
      " [  0   0   0 ...  91  39 239]\n",
      " [  0   0   0 ...  96   9 300]]\n"
     ]
    }
   ],
   "source": [
    "from tensorflow.keras.preprocessing.sequence import pad_sequences\n",
    "max_len=100\n",
    "padded_docs=pad_sequences(seq,padding=\"pre\",maxlen=max_len)\n",
    "print(padded_docs)\n"
   ]
  },
  {
   "cell_type": "code",
   "execution_count": 12,
   "metadata": {},
   "outputs": [
    {
     "name": "stderr",
     "output_type": "stream",
     "text": [
      "c:\\Github\\my_projects\\NLP.learn\\spam_classification\\.venv\\lib\\site-packages\\keras\\src\\layers\\core\\embedding.py:90: UserWarning: Argument `input_length` is deprecated. Just remove it.\n",
      "  warnings.warn(\n"
     ]
    },
    {
     "data": {
      "text/html": [
       "<pre style=\"white-space:pre;overflow-x:auto;line-height:normal;font-family:Menlo,'DejaVu Sans Mono',consolas,'Courier New',monospace\"><span style=\"font-weight: bold\">Model: \"sequential\"</span>\n",
       "</pre>\n"
      ],
      "text/plain": [
       "\u001b[1mModel: \"sequential\"\u001b[0m\n"
      ]
     },
     "metadata": {},
     "output_type": "display_data"
    },
    {
     "data": {
      "text/html": [
       "<pre style=\"white-space:pre;overflow-x:auto;line-height:normal;font-family:Menlo,'DejaVu Sans Mono',consolas,'Courier New',monospace\">┏━━━━━━━━━━━━━━━━━━━━━━━━━━━━━━━━━┳━━━━━━━━━━━━━━━━━━━━━━━━┳━━━━━━━━━━━━━━━┓\n",
       "┃<span style=\"font-weight: bold\"> Layer (type)                    </span>┃<span style=\"font-weight: bold\"> Output Shape           </span>┃<span style=\"font-weight: bold\">       Param # </span>┃\n",
       "┡━━━━━━━━━━━━━━━━━━━━━━━━━━━━━━━━━╇━━━━━━━━━━━━━━━━━━━━━━━━╇━━━━━━━━━━━━━━━┩\n",
       "│ embedding (<span style=\"color: #0087ff; text-decoration-color: #0087ff\">Embedding</span>)           │ (<span style=\"color: #00d7ff; text-decoration-color: #00d7ff\">None</span>, <span style=\"color: #00af00; text-decoration-color: #00af00\">100</span>, <span style=\"color: #00af00; text-decoration-color: #00af00\">30</span>)        │        <span style=\"color: #00af00; text-decoration-color: #00af00\">15,000</span> │\n",
       "├─────────────────────────────────┼────────────────────────┼───────────────┤\n",
       "│ lstm (<span style=\"color: #0087ff; text-decoration-color: #0087ff\">LSTM</span>)                     │ (<span style=\"color: #00d7ff; text-decoration-color: #00d7ff\">None</span>, <span style=\"color: #00af00; text-decoration-color: #00af00\">256</span>)            │       <span style=\"color: #00af00; text-decoration-color: #00af00\">293,888</span> │\n",
       "├─────────────────────────────────┼────────────────────────┼───────────────┤\n",
       "│ dropout (<span style=\"color: #0087ff; text-decoration-color: #0087ff\">Dropout</span>)               │ (<span style=\"color: #00d7ff; text-decoration-color: #00d7ff\">None</span>, <span style=\"color: #00af00; text-decoration-color: #00af00\">256</span>)            │             <span style=\"color: #00af00; text-decoration-color: #00af00\">0</span> │\n",
       "├─────────────────────────────────┼────────────────────────┼───────────────┤\n",
       "│ dense (<span style=\"color: #0087ff; text-decoration-color: #0087ff\">Dense</span>)                   │ (<span style=\"color: #00d7ff; text-decoration-color: #00d7ff\">None</span>, <span style=\"color: #00af00; text-decoration-color: #00af00\">1</span>)              │           <span style=\"color: #00af00; text-decoration-color: #00af00\">257</span> │\n",
       "└─────────────────────────────────┴────────────────────────┴───────────────┘\n",
       "</pre>\n"
      ],
      "text/plain": [
       "┏━━━━━━━━━━━━━━━━━━━━━━━━━━━━━━━━━┳━━━━━━━━━━━━━━━━━━━━━━━━┳━━━━━━━━━━━━━━━┓\n",
       "┃\u001b[1m \u001b[0m\u001b[1mLayer (type)                   \u001b[0m\u001b[1m \u001b[0m┃\u001b[1m \u001b[0m\u001b[1mOutput Shape          \u001b[0m\u001b[1m \u001b[0m┃\u001b[1m \u001b[0m\u001b[1m      Param #\u001b[0m\u001b[1m \u001b[0m┃\n",
       "┡━━━━━━━━━━━━━━━━━━━━━━━━━━━━━━━━━╇━━━━━━━━━━━━━━━━━━━━━━━━╇━━━━━━━━━━━━━━━┩\n",
       "│ embedding (\u001b[38;5;33mEmbedding\u001b[0m)           │ (\u001b[38;5;45mNone\u001b[0m, \u001b[38;5;34m100\u001b[0m, \u001b[38;5;34m30\u001b[0m)        │        \u001b[38;5;34m15,000\u001b[0m │\n",
       "├─────────────────────────────────┼────────────────────────┼───────────────┤\n",
       "│ lstm (\u001b[38;5;33mLSTM\u001b[0m)                     │ (\u001b[38;5;45mNone\u001b[0m, \u001b[38;5;34m256\u001b[0m)            │       \u001b[38;5;34m293,888\u001b[0m │\n",
       "├─────────────────────────────────┼────────────────────────┼───────────────┤\n",
       "│ dropout (\u001b[38;5;33mDropout\u001b[0m)               │ (\u001b[38;5;45mNone\u001b[0m, \u001b[38;5;34m256\u001b[0m)            │             \u001b[38;5;34m0\u001b[0m │\n",
       "├─────────────────────────────────┼────────────────────────┼───────────────┤\n",
       "│ dense (\u001b[38;5;33mDense\u001b[0m)                   │ (\u001b[38;5;45mNone\u001b[0m, \u001b[38;5;34m1\u001b[0m)              │           \u001b[38;5;34m257\u001b[0m │\n",
       "└─────────────────────────────────┴────────────────────────┴───────────────┘\n"
      ]
     },
     "metadata": {},
     "output_type": "display_data"
    },
    {
     "data": {
      "text/html": [
       "<pre style=\"white-space:pre;overflow-x:auto;line-height:normal;font-family:Menlo,'DejaVu Sans Mono',consolas,'Courier New',monospace\"><span style=\"font-weight: bold\"> Total params: </span><span style=\"color: #00af00; text-decoration-color: #00af00\">309,145</span> (1.18 MB)\n",
       "</pre>\n"
      ],
      "text/plain": [
       "\u001b[1m Total params: \u001b[0m\u001b[38;5;34m309,145\u001b[0m (1.18 MB)\n"
      ]
     },
     "metadata": {},
     "output_type": "display_data"
    },
    {
     "data": {
      "text/html": [
       "<pre style=\"white-space:pre;overflow-x:auto;line-height:normal;font-family:Menlo,'DejaVu Sans Mono',consolas,'Courier New',monospace\"><span style=\"font-weight: bold\"> Trainable params: </span><span style=\"color: #00af00; text-decoration-color: #00af00\">309,145</span> (1.18 MB)\n",
       "</pre>\n"
      ],
      "text/plain": [
       "\u001b[1m Trainable params: \u001b[0m\u001b[38;5;34m309,145\u001b[0m (1.18 MB)\n"
      ]
     },
     "metadata": {},
     "output_type": "display_data"
    },
    {
     "data": {
      "text/html": [
       "<pre style=\"white-space:pre;overflow-x:auto;line-height:normal;font-family:Menlo,'DejaVu Sans Mono',consolas,'Courier New',monospace\"><span style=\"font-weight: bold\"> Non-trainable params: </span><span style=\"color: #00af00; text-decoration-color: #00af00\">0</span> (0.00 B)\n",
       "</pre>\n"
      ],
      "text/plain": [
       "\u001b[1m Non-trainable params: \u001b[0m\u001b[38;5;34m0\u001b[0m (0.00 B)\n"
      ]
     },
     "metadata": {},
     "output_type": "display_data"
    }
   ],
   "source": [
    "from tensorflow.keras.models import Sequential\n",
    "from tensorflow.keras.layers import LSTM, Dense, Dropout, Embedding\n",
    "\n",
    "\n",
    "embedding_vector_features = 30\n",
    "model = Sequential()\n",
    "model.add(Embedding(input_dim=max_words, output_dim=embedding_vector_features, input_length=max_len))\n",
    "model.add(LSTM(256))\n",
    "model.add(Dropout(0.5))  # Add dropout to prevent overfitting\n",
    "model.add(Dense(1, activation=\"sigmoid\"))\n",
    "\n",
    "model.build(input_shape=(None, max_len))  # Build the model\n",
    "model.compile(loss=\"binary_crossentropy\", optimizer=\"adam\", metrics=[\"accuracy\"])\n",
    "\n",
    "\n",
    "model.summary()\n"
   ]
  },
  {
   "cell_type": "code",
   "execution_count": 13,
   "metadata": {},
   "outputs": [
    {
     "name": "stdout",
     "output_type": "stream",
     "text": [
      "Epoch 1/10\n",
      "\u001b[1m28/28\u001b[0m \u001b[32m━━━━━━━━━━━━━━━━━━━━\u001b[0m\u001b[37m\u001b[0m \u001b[1m5s\u001b[0m 155ms/step - accuracy: 0.8062 - loss: 0.4914 - val_accuracy: 0.8722 - val_loss: 0.2752\n",
      "Epoch 2/10\n",
      "\u001b[1m28/28\u001b[0m \u001b[32m━━━━━━━━━━━━━━━━━━━━\u001b[0m\u001b[37m\u001b[0m \u001b[1m4s\u001b[0m 143ms/step - accuracy: 0.9359 - loss: 0.2235 - val_accuracy: 0.9585 - val_loss: 0.1315\n",
      "Epoch 3/10\n",
      "\u001b[1m28/28\u001b[0m \u001b[32m━━━━━━━━━━━━━━━━━━━━\u001b[0m\u001b[37m\u001b[0m \u001b[1m4s\u001b[0m 131ms/step - accuracy: 0.9722 - loss: 0.0918 - val_accuracy: 0.9697 - val_loss: 0.1003\n",
      "Epoch 4/10\n",
      "\u001b[1m28/28\u001b[0m \u001b[32m━━━━━━━━━━━━━━━━━━━━\u001b[0m\u001b[37m\u001b[0m \u001b[1m3s\u001b[0m 122ms/step - accuracy: 0.9797 - loss: 0.0713 - val_accuracy: 0.9720 - val_loss: 0.0910\n",
      "Epoch 5/10\n",
      "\u001b[1m28/28\u001b[0m \u001b[32m━━━━━━━━━━━━━━━━━━━━\u001b[0m\u001b[37m\u001b[0m \u001b[1m3s\u001b[0m 121ms/step - accuracy: 0.9856 - loss: 0.0534 - val_accuracy: 0.9798 - val_loss: 0.0742\n",
      "Epoch 6/10\n",
      "\u001b[1m28/28\u001b[0m \u001b[32m━━━━━━━━━━━━━━━━━━━━\u001b[0m\u001b[37m\u001b[0m \u001b[1m3s\u001b[0m 120ms/step - accuracy: 0.9886 - loss: 0.0472 - val_accuracy: 0.9809 - val_loss: 0.0729\n",
      "Epoch 7/10\n",
      "\u001b[1m28/28\u001b[0m \u001b[32m━━━━━━━━━━━━━━━━━━━━\u001b[0m\u001b[37m\u001b[0m \u001b[1m3s\u001b[0m 120ms/step - accuracy: 0.9887 - loss: 0.0385 - val_accuracy: 0.9798 - val_loss: 0.0604\n",
      "Epoch 8/10\n",
      "\u001b[1m28/28\u001b[0m \u001b[32m━━━━━━━━━━━━━━━━━━━━\u001b[0m\u001b[37m\u001b[0m \u001b[1m3s\u001b[0m 122ms/step - accuracy: 0.9914 - loss: 0.0290 - val_accuracy: 0.9832 - val_loss: 0.0635\n",
      "Epoch 9/10\n",
      "\u001b[1m28/28\u001b[0m \u001b[32m━━━━━━━━━━━━━━━━━━━━\u001b[0m\u001b[37m\u001b[0m \u001b[1m3s\u001b[0m 122ms/step - accuracy: 0.9908 - loss: 0.0393 - val_accuracy: 0.9832 - val_loss: 0.0616\n",
      "Epoch 10/10\n",
      "\u001b[1m28/28\u001b[0m \u001b[32m━━━━━━━━━━━━━━━━━━━━\u001b[0m\u001b[37m\u001b[0m \u001b[1m3s\u001b[0m 123ms/step - accuracy: 0.9935 - loss: 0.0232 - val_accuracy: 0.9809 - val_loss: 0.0586\n"
     ]
    },
    {
     "data": {
      "text/plain": [
       "<keras.src.callbacks.history.History at 0x1bf7fc85760>"
      ]
     },
     "execution_count": 13,
     "metadata": {},
     "output_type": "execute_result"
    }
   ],
   "source": [
    "model.fit(padded_docs,Y_train,batch_size=128,epochs=10,validation_split=0.2)"
   ]
  },
  {
   "cell_type": "code",
   "execution_count": 14,
   "metadata": {},
   "outputs": [],
   "source": [
    "text_seq=tkn.texts_to_sequences(X_test)\n",
    "test_padded=pad_sequences(text_seq,maxlen=max_len)"
   ]
  },
  {
   "cell_type": "code",
   "execution_count": 15,
   "metadata": {},
   "outputs": [
    {
     "name": "stdout",
     "output_type": "stream",
     "text": [
      "\u001b[1m35/35\u001b[0m \u001b[32m━━━━━━━━━━━━━━━━━━━━\u001b[0m\u001b[37m\u001b[0m \u001b[1m1s\u001b[0m 23ms/step - accuracy: 0.9840 - loss: 0.0434\n",
      "[0.06083310395479202, 0.9793722033500671]\n"
     ]
    }
   ],
   "source": [
    "accr=model.evaluate(test_padded,Y_test)\n",
    "print(accr)"
   ]
  },
  {
   "cell_type": "markdown",
   "metadata": {},
   "source": [
    "## Model.save()"
   ]
  },
  {
   "cell_type": "code",
   "execution_count": 18,
   "metadata": {},
   "outputs": [],
   "source": [
    "model.save(\"mymodel.keras\")"
   ]
  },
  {
   "cell_type": "code",
   "execution_count": 19,
   "metadata": {},
   "outputs": [],
   "source": [
    "from tensorflow.keras.models import load_model\n",
    "new_model=load_model(\"mymodel.keras\")"
   ]
  },
  {
   "cell_type": "code",
   "execution_count": 20,
   "metadata": {},
   "outputs": [
    {
     "data": {
      "text/html": [
       "<pre style=\"white-space:pre;overflow-x:auto;line-height:normal;font-family:Menlo,'DejaVu Sans Mono',consolas,'Courier New',monospace\"><span style=\"font-weight: bold\">Model: \"sequential\"</span>\n",
       "</pre>\n"
      ],
      "text/plain": [
       "\u001b[1mModel: \"sequential\"\u001b[0m\n"
      ]
     },
     "metadata": {},
     "output_type": "display_data"
    },
    {
     "data": {
      "text/html": [
       "<pre style=\"white-space:pre;overflow-x:auto;line-height:normal;font-family:Menlo,'DejaVu Sans Mono',consolas,'Courier New',monospace\">┏━━━━━━━━━━━━━━━━━━━━━━━━━━━━━━━━━┳━━━━━━━━━━━━━━━━━━━━━━━━┳━━━━━━━━━━━━━━━┓\n",
       "┃<span style=\"font-weight: bold\"> Layer (type)                    </span>┃<span style=\"font-weight: bold\"> Output Shape           </span>┃<span style=\"font-weight: bold\">       Param # </span>┃\n",
       "┡━━━━━━━━━━━━━━━━━━━━━━━━━━━━━━━━━╇━━━━━━━━━━━━━━━━━━━━━━━━╇━━━━━━━━━━━━━━━┩\n",
       "│ embedding (<span style=\"color: #0087ff; text-decoration-color: #0087ff\">Embedding</span>)           │ (<span style=\"color: #00d7ff; text-decoration-color: #00d7ff\">None</span>, <span style=\"color: #00af00; text-decoration-color: #00af00\">100</span>, <span style=\"color: #00af00; text-decoration-color: #00af00\">30</span>)        │        <span style=\"color: #00af00; text-decoration-color: #00af00\">15,000</span> │\n",
       "├─────────────────────────────────┼────────────────────────┼───────────────┤\n",
       "│ lstm (<span style=\"color: #0087ff; text-decoration-color: #0087ff\">LSTM</span>)                     │ (<span style=\"color: #00d7ff; text-decoration-color: #00d7ff\">None</span>, <span style=\"color: #00af00; text-decoration-color: #00af00\">256</span>)            │       <span style=\"color: #00af00; text-decoration-color: #00af00\">293,888</span> │\n",
       "├─────────────────────────────────┼────────────────────────┼───────────────┤\n",
       "│ dropout (<span style=\"color: #0087ff; text-decoration-color: #0087ff\">Dropout</span>)               │ (<span style=\"color: #00d7ff; text-decoration-color: #00d7ff\">None</span>, <span style=\"color: #00af00; text-decoration-color: #00af00\">256</span>)            │             <span style=\"color: #00af00; text-decoration-color: #00af00\">0</span> │\n",
       "├─────────────────────────────────┼────────────────────────┼───────────────┤\n",
       "│ dense (<span style=\"color: #0087ff; text-decoration-color: #0087ff\">Dense</span>)                   │ (<span style=\"color: #00d7ff; text-decoration-color: #00d7ff\">None</span>, <span style=\"color: #00af00; text-decoration-color: #00af00\">1</span>)              │           <span style=\"color: #00af00; text-decoration-color: #00af00\">257</span> │\n",
       "└─────────────────────────────────┴────────────────────────┴───────────────┘\n",
       "</pre>\n"
      ],
      "text/plain": [
       "┏━━━━━━━━━━━━━━━━━━━━━━━━━━━━━━━━━┳━━━━━━━━━━━━━━━━━━━━━━━━┳━━━━━━━━━━━━━━━┓\n",
       "┃\u001b[1m \u001b[0m\u001b[1mLayer (type)                   \u001b[0m\u001b[1m \u001b[0m┃\u001b[1m \u001b[0m\u001b[1mOutput Shape          \u001b[0m\u001b[1m \u001b[0m┃\u001b[1m \u001b[0m\u001b[1m      Param #\u001b[0m\u001b[1m \u001b[0m┃\n",
       "┡━━━━━━━━━━━━━━━━━━━━━━━━━━━━━━━━━╇━━━━━━━━━━━━━━━━━━━━━━━━╇━━━━━━━━━━━━━━━┩\n",
       "│ embedding (\u001b[38;5;33mEmbedding\u001b[0m)           │ (\u001b[38;5;45mNone\u001b[0m, \u001b[38;5;34m100\u001b[0m, \u001b[38;5;34m30\u001b[0m)        │        \u001b[38;5;34m15,000\u001b[0m │\n",
       "├─────────────────────────────────┼────────────────────────┼───────────────┤\n",
       "│ lstm (\u001b[38;5;33mLSTM\u001b[0m)                     │ (\u001b[38;5;45mNone\u001b[0m, \u001b[38;5;34m256\u001b[0m)            │       \u001b[38;5;34m293,888\u001b[0m │\n",
       "├─────────────────────────────────┼────────────────────────┼───────────────┤\n",
       "│ dropout (\u001b[38;5;33mDropout\u001b[0m)               │ (\u001b[38;5;45mNone\u001b[0m, \u001b[38;5;34m256\u001b[0m)            │             \u001b[38;5;34m0\u001b[0m │\n",
       "├─────────────────────────────────┼────────────────────────┼───────────────┤\n",
       "│ dense (\u001b[38;5;33mDense\u001b[0m)                   │ (\u001b[38;5;45mNone\u001b[0m, \u001b[38;5;34m1\u001b[0m)              │           \u001b[38;5;34m257\u001b[0m │\n",
       "└─────────────────────────────────┴────────────────────────┴───────────────┘\n"
      ]
     },
     "metadata": {},
     "output_type": "display_data"
    },
    {
     "data": {
      "text/html": [
       "<pre style=\"white-space:pre;overflow-x:auto;line-height:normal;font-family:Menlo,'DejaVu Sans Mono',consolas,'Courier New',monospace\"><span style=\"font-weight: bold\"> Total params: </span><span style=\"color: #00af00; text-decoration-color: #00af00\">927,437</span> (3.54 MB)\n",
       "</pre>\n"
      ],
      "text/plain": [
       "\u001b[1m Total params: \u001b[0m\u001b[38;5;34m927,437\u001b[0m (3.54 MB)\n"
      ]
     },
     "metadata": {},
     "output_type": "display_data"
    },
    {
     "data": {
      "text/html": [
       "<pre style=\"white-space:pre;overflow-x:auto;line-height:normal;font-family:Menlo,'DejaVu Sans Mono',consolas,'Courier New',monospace\"><span style=\"font-weight: bold\"> Trainable params: </span><span style=\"color: #00af00; text-decoration-color: #00af00\">309,145</span> (1.18 MB)\n",
       "</pre>\n"
      ],
      "text/plain": [
       "\u001b[1m Trainable params: \u001b[0m\u001b[38;5;34m309,145\u001b[0m (1.18 MB)\n"
      ]
     },
     "metadata": {},
     "output_type": "display_data"
    },
    {
     "data": {
      "text/html": [
       "<pre style=\"white-space:pre;overflow-x:auto;line-height:normal;font-family:Menlo,'DejaVu Sans Mono',consolas,'Courier New',monospace\"><span style=\"font-weight: bold\"> Non-trainable params: </span><span style=\"color: #00af00; text-decoration-color: #00af00\">0</span> (0.00 B)\n",
       "</pre>\n"
      ],
      "text/plain": [
       "\u001b[1m Non-trainable params: \u001b[0m\u001b[38;5;34m0\u001b[0m (0.00 B)\n"
      ]
     },
     "metadata": {},
     "output_type": "display_data"
    },
    {
     "data": {
      "text/html": [
       "<pre style=\"white-space:pre;overflow-x:auto;line-height:normal;font-family:Menlo,'DejaVu Sans Mono',consolas,'Courier New',monospace\"><span style=\"font-weight: bold\"> Optimizer params: </span><span style=\"color: #00af00; text-decoration-color: #00af00\">618,292</span> (2.36 MB)\n",
       "</pre>\n"
      ],
      "text/plain": [
       "\u001b[1m Optimizer params: \u001b[0m\u001b[38;5;34m618,292\u001b[0m (2.36 MB)\n"
      ]
     },
     "metadata": {},
     "output_type": "display_data"
    }
   ],
   "source": [
    "new_model.summary()"
   ]
  },
  {
   "cell_type": "code",
   "execution_count": 21,
   "metadata": {},
   "outputs": [
    {
     "data": {
      "text/plain": [
       "[array([[ 0.13806997,  0.12386769, -0.2769968 , ...,  0.12893897,\n",
       "          0.07429777, -0.14848006],\n",
       "        [ 0.24759026, -0.18337443,  0.14429155, ..., -0.09447183,\n",
       "          0.15766107, -0.18251948],\n",
       "        [ 0.01466905, -0.0093277 , -0.01137063, ...,  0.02060477,\n",
       "         -0.03869527,  0.03941483],\n",
       "        ...,\n",
       "        [ 0.03801703, -0.07161755,  0.12453946, ..., -0.09171205,\n",
       "          0.08407642, -0.03404594],\n",
       "        [-0.04871027,  0.04369686, -0.11882068, ...,  0.14031613,\n",
       "         -0.10694922,  0.06908727],\n",
       "        [ 0.04862821, -0.01971862,  0.02346607, ..., -0.08732954,\n",
       "          0.01985374,  0.0366582 ]], dtype=float32),\n",
       " array([[ 0.02062385,  0.02177656,  0.04725684, ..., -0.04819243,\n",
       "         -0.03747229, -0.00912568],\n",
       "        [-0.0467652 , -0.01523248, -0.07061365, ..., -0.02489975,\n",
       "          0.1390198 , -0.05971753],\n",
       "        [ 0.13406515, -0.0279826 ,  0.07973155, ..., -0.0198976 ,\n",
       "         -0.10443486,  0.12084191],\n",
       "        ...,\n",
       "        [-0.13006455,  0.01664018, -0.05305183, ...,  0.01350519,\n",
       "          0.10153935, -0.03872523],\n",
       "        [-0.00716065, -0.01525744,  0.05149434, ..., -0.00626209,\n",
       "         -0.08013768, -0.04681029],\n",
       "        [-0.02642394,  0.0502454 , -0.03018471, ..., -0.05953511,\n",
       "          0.01882946,  0.07749734]], dtype=float32),\n",
       " array([[ 0.03639586, -0.01006517,  0.04466421, ...,  0.00054555,\n",
       "         -0.01372469,  0.0080204 ],\n",
       "        [ 0.03727859, -0.01243969,  0.01860539, ..., -0.02869004,\n",
       "         -0.02148941,  0.03352736],\n",
       "        [-0.02855902,  0.03209105, -0.00647986, ...,  0.03813653,\n",
       "          0.06555547, -0.0414806 ],\n",
       "        ...,\n",
       "        [ 0.00705732,  0.00491939, -0.02529757, ..., -0.01974986,\n",
       "         -0.01747688,  0.02445617],\n",
       "        [-0.00492974, -0.00257834,  0.02900951, ...,  0.00362332,\n",
       "          0.00272897,  0.01073005],\n",
       "        [-0.05117192,  0.03649604, -0.03365465, ..., -0.01994782,\n",
       "          0.04305913,  0.01496798]], dtype=float32),\n",
       " array([0.01639397, 0.00064082, 0.02999933, ..., 0.00276129, 0.00623291,\n",
       "        0.0322492 ], dtype=float32),\n",
       " array([[ 1.67156562e-01],\n",
       "        [-4.05402966e-02],\n",
       "        [ 1.87144920e-01],\n",
       "        [-7.85475075e-02],\n",
       "        [-1.39294446e-01],\n",
       "        [-4.38619703e-02],\n",
       "        [ 7.81613365e-02],\n",
       "        [-1.58454135e-01],\n",
       "        [ 1.94048122e-01],\n",
       "        [-2.11460561e-01],\n",
       "        [ 8.05330276e-02],\n",
       "        [ 1.10810235e-01],\n",
       "        [-1.32595524e-01],\n",
       "        [ 1.75951049e-01],\n",
       "        [ 2.00310692e-01],\n",
       "        [ 1.49638221e-01],\n",
       "        [-3.26057225e-02],\n",
       "        [ 1.48072883e-01],\n",
       "        [ 1.24336459e-01],\n",
       "        [-6.82357848e-02],\n",
       "        [ 2.33418196e-02],\n",
       "        [ 1.64199471e-01],\n",
       "        [ 1.79915011e-01],\n",
       "        [-7.88145736e-02],\n",
       "        [ 1.32167146e-01],\n",
       "        [ 6.37280568e-02],\n",
       "        [ 1.28999412e-01],\n",
       "        [ 7.43255615e-02],\n",
       "        [ 7.33782575e-02],\n",
       "        [ 6.37058616e-02],\n",
       "        [-1.15609996e-01],\n",
       "        [-1.94420025e-01],\n",
       "        [-1.36107072e-01],\n",
       "        [-1.35876194e-01],\n",
       "        [-1.36317104e-01],\n",
       "        [ 1.25017747e-01],\n",
       "        [-1.50063902e-01],\n",
       "        [-1.51910171e-01],\n",
       "        [-7.18380958e-02],\n",
       "        [ 9.03656483e-02],\n",
       "        [ 6.56517893e-02],\n",
       "        [-2.16220334e-01],\n",
       "        [-1.22901708e-01],\n",
       "        [-8.91670585e-03],\n",
       "        [-9.87830088e-02],\n",
       "        [ 4.84332703e-02],\n",
       "        [ 1.03895493e-01],\n",
       "        [ 7.77520053e-03],\n",
       "        [-4.61320654e-02],\n",
       "        [-1.48262888e-01],\n",
       "        [-3.40468660e-02],\n",
       "        [-6.77300468e-02],\n",
       "        [ 1.06934480e-01],\n",
       "        [ 5.63203469e-02],\n",
       "        [ 1.50248423e-01],\n",
       "        [-2.64361590e-01],\n",
       "        [ 1.27041534e-01],\n",
       "        [-1.29214138e-01],\n",
       "        [-1.72383934e-01],\n",
       "        [-1.43781558e-01],\n",
       "        [ 1.22660361e-01],\n",
       "        [-1.34126753e-01],\n",
       "        [-1.24867186e-01],\n",
       "        [ 1.58356309e-01],\n",
       "        [ 1.03113048e-01],\n",
       "        [ 2.08762437e-01],\n",
       "        [ 1.79473609e-01],\n",
       "        [ 1.68841392e-01],\n",
       "        [ 1.71396792e-01],\n",
       "        [-1.74184710e-01],\n",
       "        [ 8.23831037e-02],\n",
       "        [-1.90854549e-01],\n",
       "        [ 6.69347495e-02],\n",
       "        [-1.34697426e-02],\n",
       "        [ 7.48569816e-02],\n",
       "        [-1.27418891e-01],\n",
       "        [-1.27455652e-01],\n",
       "        [ 7.19948709e-02],\n",
       "        [ 1.58147976e-01],\n",
       "        [ 2.39002272e-01],\n",
       "        [-1.47816822e-01],\n",
       "        [ 1.72368646e-01],\n",
       "        [-1.56830475e-01],\n",
       "        [ 1.90214351e-01],\n",
       "        [ 6.42732233e-02],\n",
       "        [ 1.39387369e-01],\n",
       "        [ 1.27070785e-01],\n",
       "        [ 9.76298675e-02],\n",
       "        [ 2.27980271e-01],\n",
       "        [-9.00195241e-02],\n",
       "        [-8.93638581e-02],\n",
       "        [ 3.43725123e-02],\n",
       "        [-4.69232798e-02],\n",
       "        [-1.29295707e-01],\n",
       "        [ 1.00006694e-02],\n",
       "        [-3.04772295e-02],\n",
       "        [ 2.15236381e-01],\n",
       "        [ 1.35423154e-01],\n",
       "        [-1.31944358e-01],\n",
       "        [ 1.73183769e-01],\n",
       "        [ 1.24850772e-01],\n",
       "        [-1.30234405e-01],\n",
       "        [-2.31405854e-01],\n",
       "        [-1.13253765e-01],\n",
       "        [-8.68805274e-02],\n",
       "        [ 1.68144941e-01],\n",
       "        [ 1.74405277e-01],\n",
       "        [ 1.71972647e-01],\n",
       "        [-1.52965263e-01],\n",
       "        [-1.16454445e-01],\n",
       "        [-8.00954700e-02],\n",
       "        [-3.30528729e-02],\n",
       "        [ 8.93460289e-02],\n",
       "        [ 8.54809433e-02],\n",
       "        [-3.92908379e-02],\n",
       "        [ 1.77635133e-01],\n",
       "        [-1.67153418e-01],\n",
       "        [ 1.94153637e-01],\n",
       "        [ 2.25210190e-03],\n",
       "        [-1.92563921e-01],\n",
       "        [ 1.56222001e-01],\n",
       "        [-2.51917023e-04],\n",
       "        [-1.77092120e-01],\n",
       "        [ 1.24258891e-01],\n",
       "        [ 4.70832922e-02],\n",
       "        [-1.70545891e-01],\n",
       "        [ 1.87670618e-01],\n",
       "        [-1.87641323e-01],\n",
       "        [-1.32842854e-01],\n",
       "        [ 8.94667432e-02],\n",
       "        [ 6.01636358e-02],\n",
       "        [ 1.01775222e-01],\n",
       "        [ 1.66877806e-01],\n",
       "        [ 1.06972806e-01],\n",
       "        [-1.89659633e-02],\n",
       "        [ 1.62156761e-01],\n",
       "        [ 6.35880930e-03],\n",
       "        [ 1.45602822e-01],\n",
       "        [ 1.86821222e-01],\n",
       "        [ 1.70185361e-02],\n",
       "        [-1.03738613e-01],\n",
       "        [ 1.34479389e-01],\n",
       "        [-1.92458466e-01],\n",
       "        [-6.24798983e-02],\n",
       "        [ 3.17896381e-02],\n",
       "        [-3.52301933e-02],\n",
       "        [ 2.16191188e-01],\n",
       "        [ 1.79842502e-01],\n",
       "        [-9.69938841e-03],\n",
       "        [-6.32519871e-02],\n",
       "        [-1.28813803e-01],\n",
       "        [ 1.09387450e-02],\n",
       "        [-1.56697735e-01],\n",
       "        [-1.47043824e-01],\n",
       "        [ 1.16655350e-01],\n",
       "        [-1.54963918e-02],\n",
       "        [ 2.05226049e-01],\n",
       "        [ 1.91744998e-01],\n",
       "        [-1.55503586e-01],\n",
       "        [-1.53412923e-01],\n",
       "        [ 8.17160383e-02],\n",
       "        [ 1.14184983e-01],\n",
       "        [ 1.92881986e-01],\n",
       "        [ 1.09476686e-01],\n",
       "        [ 2.31094975e-02],\n",
       "        [-1.68491393e-01],\n",
       "        [-1.57289565e-01],\n",
       "        [-2.03964245e-02],\n",
       "        [-1.54001936e-01],\n",
       "        [ 1.53861493e-02],\n",
       "        [ 1.59445107e-01],\n",
       "        [-8.07600990e-02],\n",
       "        [ 3.85669060e-02],\n",
       "        [ 1.05318308e-01],\n",
       "        [-7.16192275e-02],\n",
       "        [ 1.08110189e-01],\n",
       "        [ 2.25306690e-01],\n",
       "        [ 6.31194934e-02],\n",
       "        [-1.49818972e-01],\n",
       "        [-7.81102479e-02],\n",
       "        [ 1.80651516e-01],\n",
       "        [ 1.07355863e-01],\n",
       "        [ 1.98010668e-01],\n",
       "        [ 1.61114782e-01],\n",
       "        [-3.16675031e-03],\n",
       "        [-7.75891170e-02],\n",
       "        [ 1.20999880e-01],\n",
       "        [-8.28836933e-02],\n",
       "        [ 1.83385149e-01],\n",
       "        [-3.54220755e-02],\n",
       "        [ 1.43606499e-01],\n",
       "        [-1.34898961e-01],\n",
       "        [ 1.00653715e-01],\n",
       "        [-1.82869017e-01],\n",
       "        [-4.67091948e-02],\n",
       "        [ 2.78360974e-02],\n",
       "        [-1.39126614e-01],\n",
       "        [-1.32139981e-01],\n",
       "        [ 1.08081952e-01],\n",
       "        [ 1.59165919e-01],\n",
       "        [ 1.35503709e-01],\n",
       "        [-1.14949204e-01],\n",
       "        [ 1.02294892e-01],\n",
       "        [ 1.58438370e-01],\n",
       "        [-1.51095716e-02],\n",
       "        [ 2.11453572e-01],\n",
       "        [ 1.84134617e-01],\n",
       "        [ 1.22628033e-01],\n",
       "        [-9.57498848e-02],\n",
       "        [-1.36355355e-01],\n",
       "        [-1.00879595e-01],\n",
       "        [-1.30886897e-01],\n",
       "        [-9.08250660e-02],\n",
       "        [ 2.82549486e-02],\n",
       "        [-4.73252088e-02],\n",
       "        [ 7.85343572e-02],\n",
       "        [-1.49762526e-01],\n",
       "        [ 8.80536959e-02],\n",
       "        [ 8.02483335e-02],\n",
       "        [-7.97696859e-02],\n",
       "        [ 6.42372817e-02],\n",
       "        [-1.59604326e-01],\n",
       "        [-1.53053239e-01],\n",
       "        [ 1.17803194e-01],\n",
       "        [ 2.85243765e-02],\n",
       "        [ 7.53964335e-02],\n",
       "        [ 7.52506107e-02],\n",
       "        [ 7.79695809e-02],\n",
       "        [ 2.07770422e-01],\n",
       "        [ 7.70089217e-03],\n",
       "        [-3.30829178e-03],\n",
       "        [ 9.44308843e-03],\n",
       "        [-4.34142873e-02],\n",
       "        [ 1.68125287e-01],\n",
       "        [ 3.00949183e-03],\n",
       "        [ 2.21218124e-01],\n",
       "        [ 9.73610356e-02],\n",
       "        [-1.26954243e-02],\n",
       "        [ 1.15122728e-01],\n",
       "        [-1.31150067e-01],\n",
       "        [-1.83042303e-01],\n",
       "        [ 2.29763100e-03],\n",
       "        [ 5.72552271e-02],\n",
       "        [ 1.90013666e-02],\n",
       "        [ 1.93847150e-01],\n",
       "        [-2.10126221e-01],\n",
       "        [-4.91002873e-02],\n",
       "        [ 1.99682415e-02],\n",
       "        [ 1.30048260e-01],\n",
       "        [-9.66521725e-02],\n",
       "        [ 4.32930607e-03],\n",
       "        [ 6.38649911e-02],\n",
       "        [-1.79506332e-01],\n",
       "        [ 6.52974173e-02],\n",
       "        [ 3.02266795e-02],\n",
       "        [-1.63614109e-01]], dtype=float32),\n",
       " array([-0.01635234], dtype=float32)]"
      ]
     },
     "execution_count": 21,
     "metadata": {},
     "output_type": "execute_result"
    }
   ],
   "source": [
    "new_model.get_weights()"
   ]
  },
  {
   "cell_type": "code",
   "execution_count": 22,
   "metadata": {},
   "outputs": [
    {
     "data": {
      "text/plain": [
       "<keras.src.optimizers.adam.Adam at 0x1bf0ea82520>"
      ]
     },
     "execution_count": 22,
     "metadata": {},
     "output_type": "execute_result"
    }
   ],
   "source": [
    "new_model.optimizer"
   ]
  },
  {
   "cell_type": "markdown",
   "metadata": {},
   "source": [
    "## Model.save_weights()"
   ]
  },
  {
   "cell_type": "code",
   "execution_count": 27,
   "metadata": {},
   "outputs": [],
   "source": [
    "model.save_weights(\"model.weights.h5\")"
   ]
  },
  {
   "cell_type": "code",
   "execution_count": 31,
   "metadata": {},
   "outputs": [
    {
     "name": "stderr",
     "output_type": "stream",
     "text": [
      "c:\\Github\\my_projects\\NLP.learn\\spam_classification\\.venv\\lib\\site-packages\\keras\\src\\layers\\core\\embedding.py:90: UserWarning: Argument `input_length` is deprecated. Just remove it.\n",
      "  warnings.warn(\n",
      "c:\\Github\\my_projects\\NLP.learn\\spam_classification\\.venv\\lib\\site-packages\\keras\\src\\saving\\saving_lib.py:719: UserWarning: Skipping variable loading for optimizer 'adam', because it has 2 variables whereas the saved optimizer has 14 variables. \n",
      "  saveable.load_own_variables(weights_store.get(inner_path))\n"
     ]
    }
   ],
   "source": [
    "model2 = Sequential()\n",
    "model2.add(Embedding(input_dim=max_words, output_dim=embedding_vector_features, input_length=max_len))\n",
    "model2.add(LSTM(256))\n",
    "model2.add(Dense(1, activation=\"sigmoid\"))\n",
    "\n",
    "# Build the model explicitly\n",
    "model2.build(input_shape=(None, max_len))\n",
    "\n",
    "# Compile the model\n",
    "model2.compile(loss=\"binary_crossentropy\", optimizer=\"adam\", metrics=[\"accuracy\"])\n",
    "\n",
    "# Load the pre-trained weights\n",
    "model2.load_weights(\"model.weights.h5\")"
   ]
  }
 ],
 "metadata": {
  "kernelspec": {
   "display_name": ".venv",
   "language": "python",
   "name": "python3"
  },
  "language_info": {
   "codemirror_mode": {
    "name": "ipython",
    "version": 3
   },
   "file_extension": ".py",
   "mimetype": "text/x-python",
   "name": "python",
   "nbconvert_exporter": "python",
   "pygments_lexer": "ipython3",
   "version": "3.9.10"
  }
 },
 "nbformat": 4,
 "nbformat_minor": 2
}
